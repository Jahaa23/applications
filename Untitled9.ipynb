{
 "cells": [
  {
   "cell_type": "code",
   "execution_count": 8,
   "id": "9e370bc7",
   "metadata": {},
   "outputs": [
    {
     "name": "stdout",
     "output_type": "stream",
     "text": [
      "this is file 1\n",
      "this is file 2\n"
     ]
    },
    {
     "ename": "AttributeError",
     "evalue": "'_io.TextIOWrapper' object has no attribute 'append'",
     "output_type": "error",
     "traceback": [
      "\u001b[1;31m---------------------------------------------------------------------------\u001b[0m",
      "\u001b[1;31mAttributeError\u001b[0m                            Traceback (most recent call last)",
      "Cell \u001b[1;32mIn[8], line 15\u001b[0m\n\u001b[0;32m     13\u001b[0m f3 \u001b[38;5;241m=\u001b[39m f1 \u001b[38;5;241m+\u001b[39m f2\n\u001b[0;32m     14\u001b[0m \u001b[38;5;28;01mwith\u001b[39;00m \u001b[38;5;28mopen\u001b[39m(\u001b[38;5;124m\"\u001b[39m\u001b[38;5;124mfile3.txt\u001b[39m\u001b[38;5;124m\"\u001b[39m,\u001b[38;5;124m\"\u001b[39m\u001b[38;5;124ma\u001b[39m\u001b[38;5;124m\"\u001b[39m) \u001b[38;5;28;01mas\u001b[39;00m f:\n\u001b[1;32m---> 15\u001b[0m     \u001b[43mf\u001b[49m\u001b[38;5;241;43m.\u001b[39;49m\u001b[43mappend\u001b[49m(f1\u001b[38;5;241m+\u001b[39mf2)\n\u001b[0;32m     16\u001b[0m     \u001b[38;5;28mprint\u001b[39m(f3)\n",
      "\u001b[1;31mAttributeError\u001b[0m: '_io.TextIOWrapper' object has no attribute 'append'"
     ]
    }
   ],
   "source": [
    "f1 = open(\"file1.txt\",\"w\")\n",
    "f1.write(\"this is file 1\")\n",
    "f1.close()\n",
    "f2 = open(\"file2.txt\",\"w\")\n",
    "f2.write(\"this is file 2\")\n",
    "f2.close()\n",
    "with open(\"file1.txt\") as f:\n",
    "    f1 = f.read()\n",
    "    print(f1)\n",
    "with open(\"file2.txt\") as f:\n",
    "    f2 = f.read()\n",
    "    print(f2)\n",
    "f3 = f1 + f2\n",
    "with open(\"file3.txt\",\"a\") as f:\n",
    "    f.append(f1+f2)\n",
    "    print(f3)"
   ]
  },
  {
   "cell_type": "code",
   "execution_count": null,
   "id": "eef73947",
   "metadata": {},
   "outputs": [],
   "source": []
  }
 ],
 "metadata": {
  "kernelspec": {
   "display_name": "Python 3 (ipykernel)",
   "language": "python",
   "name": "python3"
  },
  "language_info": {
   "codemirror_mode": {
    "name": "ipython",
    "version": 3
   },
   "file_extension": ".py",
   "mimetype": "text/x-python",
   "name": "python",
   "nbconvert_exporter": "python",
   "pygments_lexer": "ipython3",
   "version": "3.11.3"
  }
 },
 "nbformat": 4,
 "nbformat_minor": 5
}
